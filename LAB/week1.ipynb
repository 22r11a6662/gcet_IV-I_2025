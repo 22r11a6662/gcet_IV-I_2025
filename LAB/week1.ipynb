{
 "cells": [
  {
   "cell_type": "markdown",
   "id": "e8a69730",
   "metadata": {},
   "source": [
    "1. Normalization of Input Data\n",
    "\n",
    "Normalization is used to scale input values to a smaller range, typically \n",
    "[0,1] or [−1,1].\n",
    "\n",
    "Min-Max normalization scales a value \\( x \\) to a range \\([0, 1]\\) using:\n",
    "\n",
    "$$\n",
    "x' = \\frac{x - x_{min}}{x_{max} - x_{min}}\n",
    "$$\n",
    "\n",
    "where:\n",
    "- \\( x \\) = original value  \n",
    "- \\( x_{min} \\) = minimum value in the dataset  \n",
    "- \\( x_{max} \\) = maximum value in the dataset  \n",
    "- \\( x' \\) = normalized value"
   ]
  },
  {
   "cell_type": "code",
   "execution_count": 2,
   "id": "de0dc88c",
   "metadata": {},
   "outputs": [
    {
     "name": "stdout",
     "output_type": "stream",
     "text": [
      "Normalized Input: [0.   0.25 0.5  0.75 1.  ]\n"
     ]
    }
   ],
   "source": [
    "import numpy as np\n",
    "\n",
    "# Sample data\n",
    "X = np.array([2, 4, 6, 8, 10], dtype=float)\n",
    "\n",
    "# Min-Max Normalization\n",
    "X_min = np.min(X)\n",
    "X_max = np.max(X)\n",
    "X_normalized = (X - X_min) / (X_max - X_min)\n",
    "\n",
    "print(\"Normalized Input:\", X_normalized)\n"
   ]
  },
  {
   "cell_type": "markdown",
   "id": "d830b581",
   "metadata": {},
   "source": [
    "What is an Activation Function?\n",
    "\n",
    "An activation function is a mathematical operation applied to the output of a neuron (node) in a neural network. It determines whether that neuron should be activated (fire) or not, and how much signal to pass on to the next layer.\n",
    "\n",
    "Why is it needed?\n",
    "\n",
    "Without activation functions, a neural network would simply be a linear model, no matter how many layers you add. Activation functions introduce non-linearity, allowing the network to learn complex patterns, such\n",
    "- Images\n",
    "\n",
    "- Speech\n",
    "\n",
    "- Text\n",
    "\n",
    "- Nonlinear decision boundaries\n",
    "\n",
    "How does it work?\n",
    "Each neuron performs:\n",
    "$$\n",
    "    f(x)=w \\cdot x + b\n",
    "$$\n",
    "Then applies:\n",
    "$$\n",
    "𝑎=𝑓(𝑧)\n",
    "$$\n",
    "\n",
    "\n",
    "\n",
    "\n"
   ]
  }
 ],
 "metadata": {
  "kernelspec": {
   "display_name": "Python 3",
   "language": "python",
   "name": "python3"
  },
  "language_info": {
   "codemirror_mode": {
    "name": "ipython",
    "version": 3
   },
   "file_extension": ".py",
   "mimetype": "text/x-python",
   "name": "python",
   "nbconvert_exporter": "python",
   "pygments_lexer": "ipython3",
   "version": "3.11.9"
  }
 },
 "nbformat": 4,
 "nbformat_minor": 5
}
